{
 "cells": [
  {
   "cell_type": "code",
   "execution_count": 1,
   "metadata": {},
   "outputs": [],
   "source": [
    "import pandas as pd\n",
    "import numpy as np\n",
    "import matplotlib.pyplot as plt\n",
    "import gc\n",
    "gc.collect()\n",
    "\n",
    "%matplotlib inline\n",
    "# Ignore warnings\n",
    "import warnings\n",
    "warnings.filterwarnings('ignore')"
   ]
  },
  {
   "cell_type": "code",
   "execution_count": 2,
   "metadata": {},
   "outputs": [],
   "source": [
    "#Reduce the memory usage - by Panchajanya Banerjee\n",
    "def reduce_mem_usage(df, verbose=True):\n",
    "    numerics = ['int16', 'int32', 'int64', 'float16', 'float32', 'float64']\n",
    "    start_mem = df.memory_usage().sum() / 1024**2    \n",
    "    for col in df.columns:\n",
    "        col_type = df[col].dtypes\n",
    "        if col_type in numerics:\n",
    "            c_min = df[col].min()\n",
    "            c_max = df[col].max()\n",
    "            if str(col_type)[:3] == 'int':\n",
    "                if c_min > np.iinfo(np.int8).min and c_max < np.iinfo(np.int8).max:\n",
    "                    df[col] = df[col].astype(np.int8)\n",
    "                elif c_min > np.iinfo(np.int16).min and c_max < np.iinfo(np.int16).max:\n",
    "                    df[col] = df[col].astype(np.int16)\n",
    "                elif c_min > np.iinfo(np.int32).min and c_max < np.iinfo(np.int32).max:\n",
    "                    df[col] = df[col].astype(np.int32)\n",
    "                elif c_min > np.iinfo(np.int64).min and c_max < np.iinfo(np.int64).max:\n",
    "                    df[col] = df[col].astype(np.int64)  \n",
    "            else:\n",
    "                if c_min > np.finfo(np.float16).min and c_max < np.finfo(np.float16).max:\n",
    "                    df[col] = df[col].astype(np.float16)\n",
    "                elif c_min > np.finfo(np.float32).min and c_max < np.finfo(np.float32).max:\n",
    "                    df[col] = df[col].astype(np.float32)\n",
    "                else:\n",
    "                    df[col] = df[col].astype(np.float64)    \n",
    "    end_mem = df.memory_usage().sum() / 1024**2\n",
    "    if verbose: print('Mem. usage decreased to {:5.2f} Mb ({:.1f}% reduction)'.format(end_mem, 100 * (start_mem - end_mem) / start_mem))\n",
    "    return df"
   ]
  },
  {
   "cell_type": "code",
   "execution_count": 3,
   "metadata": {},
   "outputs": [],
   "source": [
    "from sklearn.ensemble import RandomForestClassifier, AdaBoostClassifier, ExtraTreesClassifier\n",
    "from sklearn.neighbors import KNeighborsClassifier\n",
    "from sklearn.tree import DecisionTreeClassifier\n",
    "from sklearn.naive_bayes import GaussianNB\n",
    "from sklearn.base import BaseEstimator, TransformerMixin, RegressorMixin, clone\n",
    "from sklearn.model_selection import KFold, cross_val_score, train_test_split, GridSearchCV, StratifiedKFold\n",
    "from sklearn.metrics import mean_squared_error, accuracy_score\n",
    "from sklearn.preprocessing import LabelEncoder"
   ]
  },
  {
   "cell_type": "markdown",
   "metadata": {},
   "source": [
    "### Transactions"
   ]
  },
  {
   "cell_type": "code",
   "execution_count": 4,
   "metadata": {},
   "outputs": [
    {
     "name": "stdout",
     "output_type": "stream",
     "text": [
      "Mem. usage decreased to 1749.11 Mb (43.7% reduction)\n"
     ]
    },
    {
     "data": {
      "text/plain": [
       "0"
      ]
     },
     "execution_count": 4,
     "metadata": {},
     "output_type": "execute_result"
    }
   ],
   "source": [
    "transactions = reduce_mem_usage(pd.read_csv('historical_transactions.csv'))\n",
    "gc.collect()"
   ]
  },
  {
   "cell_type": "code",
   "execution_count": 5,
   "metadata": {},
   "outputs": [
    {
     "data": {
      "text/plain": [
       "authorized_flag               0\n",
       "card_id                       0\n",
       "city_id                       0\n",
       "category_1                    0\n",
       "installments                  0\n",
       "category_3               178159\n",
       "merchant_category_id          0\n",
       "merchant_id              138481\n",
       "month_lag                     0\n",
       "purchase_amount               0\n",
       "purchase_date                 0\n",
       "category_2              2652864\n",
       "state_id                      0\n",
       "subsector_id                  0\n",
       "dtype: int64"
      ]
     },
     "execution_count": 5,
     "metadata": {},
     "output_type": "execute_result"
    }
   ],
   "source": [
    "transactions.isnull().sum()"
   ]
  },
  {
   "cell_type": "code",
   "execution_count": 17,
   "metadata": {},
   "outputs": [
    {
     "data": {
      "image/png": "[encoded data removed]",
      "text/plain": [
       "<Figure size 432x288 with 1 Axes>"
      ]
     },
     "metadata": {
      "needs_background": "light"
     },
     "output_type": "display_data"
    }
   ],
   "source": [
    "# Boxplot\n",
    "plt.boxplot(transactions.purchase_amount)\n",
    "plt.show()"
   ]
  },
  {
   "cell_type": "code",
   "execution_count": 18,
   "metadata": {},
   "outputs": [
    {
     "data": {
      "text/plain": [
       "1183"
      ]
     },
     "execution_count": 18,
     "metadata": {},
     "output_type": "execute_result"
    }
   ],
   "source": [
    "len(transactions.loc[transactions.purchase_amount > 100,].purchase_amount)"
   ]
  },
  {
   "cell_type": "code",
   "execution_count": 19,
   "metadata": {},
   "outputs": [],
   "source": [
    "# transactions = transactions.loc[transactions.purchase_amount < 100000,]\n",
    "# plt.boxplot(transactions.purchase_amount)\n",
    "# plt.show()"
   ]
  },
  {
   "cell_type": "code",
   "execution_count": 21,
   "metadata": {},
   "outputs": [],
   "source": [
    "mask = transactions.installments == 999\n",
    "column_name = 'installments'\n",
    "transactions.loc[mask, column_name] = -1 ### 999 có vẻ là NA"
   ]
  },
  {
   "cell_type": "code",
   "execution_count": 23,
   "metadata": {},
   "outputs": [
    {
     "data": {
      "image/png": "[encoded data removed]",
      "text/plain": [
       "<Figure size 432x288 with 1 Axes>"
      ]
     },
     "metadata": {
      "needs_background": "light"
     },
     "output_type": "display_data"
    }
   ],
   "source": [
    "# Boxplot for installments\n",
    "plt.boxplot(transactions.installments)\n",
    "plt.show();\n",
    "\n",
    "# Remove the outlier at 1000 installments\n",
    "# transactions = transactions.loc[transactions.installments < 200,]"
   ]
  },
  {
   "cell_type": "code",
   "execution_count": 24,
   "metadata": {},
   "outputs": [
    {
     "data": {
      "text/plain": [
       "7"
      ]
     },
     "execution_count": 24,
     "metadata": {},
     "output_type": "execute_result"
    }
   ],
   "source": [
    "transactions[\"merchant_id\"] = transactions.groupby([\"card_id\"])[\"merchant_id\"].transform(lambda x: x.fillna(x.mode()[0]))\n",
    "gc.collect()"
   ]
  },
  {
   "cell_type": "code",
   "execution_count": 25,
   "metadata": {},
   "outputs": [],
   "source": [
    "cate3 = transactions.loc[:, transactions.columns != 'category_2']"
   ]
  },
  {
   "cell_type": "code",
   "execution_count": 26,
   "metadata": {},
   "outputs": [],
   "source": [
    "cols = ['card_id', 'city_id', 'category_1', 'installments','merchant_category_id','merchant_id',\n",
    "       'state_id','subsector_id']\n",
    "label_enc = LabelEncoder()\n",
    "for c in cols:\n",
    "    label_enc.fit(list(cate3[c].values)) \n",
    "    cate3[c] = label_enc.transform(list(cate3[c].values))"
   ]
  },
  {
   "cell_type": "code",
   "execution_count": 27,
   "metadata": {},
   "outputs": [
    {
     "data": {
      "text/plain": [
       "55"
      ]
     },
     "execution_count": 27,
     "metadata": {},
     "output_type": "execute_result"
    }
   ],
   "source": [
    "cate3 = cate3.drop(['purchase_date'], axis = 1)\n",
    "train = cate3.dropna()\n",
    "test = cate3.loc[cate3.category_3.isnull()]\n",
    "test = test.reset_index()\n",
    "train = train.reset_index()\n",
    "test = test.drop('index', axis = 1)\n",
    "train = train.drop('index', axis = 1)\n",
    "gc.collect()"
   ]
  },
  {
   "cell_type": "code",
   "execution_count": 28,
   "metadata": {},
   "outputs": [
    {
     "data": {
      "text/plain": [
       "41"
      ]
     },
     "execution_count": 28,
     "metadata": {},
     "output_type": "execute_result"
    }
   ],
   "source": [
    "train['category_3'] = train['category_3'].map({'A':0, 'B':1, 'C':2})\n",
    "y_train = train.category_3.values\n",
    "train = train.drop(['authorized_flag','category_3'], axis = 1)\n",
    "test = test.drop(['authorized_flag','category_3'], axis = 1)\n",
    "gc.collect()"
   ]
  },
  {
   "cell_type": "code",
   "execution_count": 29,
   "metadata": {},
   "outputs": [],
   "source": [
    "RF = RandomForestClassifier()\n",
    "RFMd = RF.fit(train, y_train)\n",
    "y_pred = RFMd.predict(test)"
   ]
  },
  {
   "cell_type": "code",
   "execution_count": 30,
   "metadata": {},
   "outputs": [
    {
     "data": {
      "text/plain": [
       "7"
      ]
     },
     "execution_count": 30,
     "metadata": {},
     "output_type": "execute_result"
    }
   ],
   "source": [
    "fill = pd.DataFrame(index = cate3.index[cate3.isnull().any(axis=1)], data= y_pred, columns=['category_3'])\n",
    "cate3 = cate3.fillna(fill)\n",
    "gc.collect()"
   ]
  },
  {
   "cell_type": "code",
   "execution_count": 31,
   "metadata": {},
   "outputs": [
    {
     "data": {
      "text/plain": [
       "0"
      ]
     },
     "execution_count": 31,
     "metadata": {},
     "output_type": "execute_result"
    }
   ],
   "source": [
    "cate3.category_3.isnull().sum()"
   ]
  },
  {
   "cell_type": "code",
   "execution_count": 32,
   "metadata": {},
   "outputs": [
    {
     "data": {
      "text/plain": [
       "47"
      ]
     },
     "execution_count": 32,
     "metadata": {},
     "output_type": "execute_result"
    }
   ],
   "source": [
    "cate3['category_3'] = cate3['category_3'].map({0: 0, 1 : 1, 2 : 2, 'A': 0, 'B': 1, 'C': 2})\n",
    "gc.collect()"
   ]
  },
  {
   "cell_type": "code",
   "execution_count": 33,
   "metadata": {},
   "outputs": [],
   "source": [
    "cate3['category_2'] = transactions['category_2']"
   ]
  },
  {
   "cell_type": "code",
   "execution_count": 34,
   "metadata": {},
   "outputs": [
    {
     "data": {
      "text/plain": [
       "89"
      ]
     },
     "execution_count": 34,
     "metadata": {},
     "output_type": "execute_result"
    }
   ],
   "source": [
    "train = cate3.dropna()\n",
    "test = cate3.loc[cate3.category_2.isnull()]\n",
    "test = test.reset_index()\n",
    "train = train.reset_index()\n",
    "test = test.drop('index', axis = 1)\n",
    "train = train.drop('index', axis = 1)\n",
    "gc.collect()"
   ]
  },
  {
   "cell_type": "code",
   "execution_count": 35,
   "metadata": {},
   "outputs": [],
   "source": [
    "y_train = train.category_2.values\n",
    "train = train.drop(['authorized_flag','category_2'], axis = 1)\n",
    "test = test.drop(['authorized_flag','category_2'], axis = 1)"
   ]
  },
  {
   "cell_type": "code",
   "execution_count": 36,
   "metadata": {},
   "outputs": [],
   "source": [
    "RF = RandomForestClassifier()\n",
    "RFMd = RF.fit(train, y_train)\n",
    "y_pred = RFMd.predict(test)"
   ]
  },
  {
   "cell_type": "code",
   "execution_count": 37,
   "metadata": {},
   "outputs": [
    {
     "data": {
      "text/plain": [
       "authorized_flag               0\n",
       "card_id                       0\n",
       "city_id                       0\n",
       "category_1                    0\n",
       "installments                  0\n",
       "category_3                    0\n",
       "merchant_category_id          0\n",
       "merchant_id                   0\n",
       "month_lag                     0\n",
       "purchase_amount               0\n",
       "state_id                      0\n",
       "subsector_id                  0\n",
       "category_2              2652864\n",
       "dtype: int64"
      ]
     },
     "execution_count": 37,
     "metadata": {},
     "output_type": "execute_result"
    }
   ],
   "source": [
    "cate3.isnull().sum()"
   ]
  },
  {
   "cell_type": "code",
   "execution_count": 38,
   "metadata": {},
   "outputs": [],
   "source": [
    "transactions['category_2'] = cate3['category_2']\n",
    "transactions['category_3'] = cate3['category_3']"
   ]
  },
  {
   "cell_type": "code",
   "execution_count": 39,
   "metadata": {},
   "outputs": [],
   "source": [
    "del cate3"
   ]
  },
  {
   "cell_type": "code",
   "execution_count": 40,
   "metadata": {},
   "outputs": [],
   "source": [
    "fill = pd.DataFrame(index = transactions.index[transactions.isnull().any(axis=1)], data= y_pred, columns=['category_2'])\n",
    "transactions = transactions.fillna(fill)"
   ]
  },
  {
   "cell_type": "code",
   "execution_count": 41,
   "metadata": {},
   "outputs": [
    {
     "data": {
      "text/plain": [
       "authorized_flag         0\n",
       "card_id                 0\n",
       "city_id                 0\n",
       "category_1              0\n",
       "installments            0\n",
       "category_3              0\n",
       "merchant_category_id    0\n",
       "merchant_id             0\n",
       "month_lag               0\n",
       "purchase_amount         0\n",
       "purchase_date           0\n",
       "category_2              0\n",
       "state_id                0\n",
       "subsector_id            0\n",
       "dtype: int64"
      ]
     },
     "execution_count": 41,
     "metadata": {},
     "output_type": "execute_result"
    }
   ],
   "source": [
    "transactions.isnull().sum()"
   ]
  },
  {
   "cell_type": "code",
   "execution_count": 42,
   "metadata": {},
   "outputs": [],
   "source": [
    "transactions.to_csv('historical_transactions_clean_outlier.csv')"
   ]
  },
  {
   "cell_type": "code",
   "execution_count": 43,
   "metadata": {},
   "outputs": [],
   "source": [
    "del transactions"
   ]
  },
  {
   "cell_type": "markdown",
   "metadata": {},
   "source": [
    "### Merchants"
   ]
  },
  {
   "cell_type": "code",
   "execution_count": 61,
   "metadata": {},
   "outputs": [
    {
     "name": "stdout",
     "output_type": "stream",
     "text": [
      "Mem. usage decreased to 30.32 Mb (46.0% reduction)\n"
     ]
    }
   ],
   "source": [
    "merchants = reduce_mem_usage(pd.read_csv('merchants.csv'))"
   ]
  },
  {
   "cell_type": "code",
   "execution_count": 62,
   "metadata": {},
   "outputs": [
    {
     "data": {
      "text/plain": [
       "merchant_id                        0\n",
       "merchant_group_id                  0\n",
       "merchant_category_id               0\n",
       "subsector_id                       0\n",
       "numerical_1                        0\n",
       "numerical_2                        0\n",
       "category_1                         0\n",
       "most_recent_sales_range            0\n",
       "most_recent_purchases_range        0\n",
       "avg_sales_lag3                    13\n",
       "avg_purchases_lag3                 0\n",
       "active_months_lag3                 0\n",
       "avg_sales_lag6                    13\n",
       "avg_purchases_lag6                 0\n",
       "active_months_lag6                 0\n",
       "avg_sales_lag12                   13\n",
       "avg_purchases_lag12                0\n",
       "active_months_lag12                0\n",
       "category_4                         0\n",
       "city_id                            0\n",
       "state_id                           0\n",
       "category_2                     11887\n",
       "dtype: int64"
      ]
     },
     "execution_count": 62,
     "metadata": {},
     "output_type": "execute_result"
    }
   ],
   "source": [
    "merchants.isnull().sum()"
   ]
  },
  {
   "cell_type": "code",
   "execution_count": 63,
   "metadata": {},
   "outputs": [],
   "source": [
    "# Drop rows with missing values of lagged sales\n",
    "merchants.dropna(subset=['avg_sales_lag3', 'avg_sales_lag6', 'avg_sales_lag12'], axis=0, inplace=True)"
   ]
  },
  {
   "cell_type": "code",
   "execution_count": 64,
   "metadata": {},
   "outputs": [],
   "source": [
    "merchants = merchants.drop_duplicates(subset = ['merchant_id'])"
   ]
  },
  {
   "cell_type": "code",
   "execution_count": 65,
   "metadata": {},
   "outputs": [
    {
     "data": {
      "text/html": [
       "<div>\n",
       "<style scoped>\n",
       "    .dataframe tbody tr th:only-of-type {\n",
       "        vertical-align: middle;\n",
       "    }\n",
       "\n",
       "    .dataframe tbody tr th {\n",
       "        vertical-align: top;\n",
       "    }\n",
       "\n",
       "    .dataframe thead th {\n",
       "        text-align: right;\n",
       "    }\n",
       "</style>\n",
       "<table border=\"1\" class=\"dataframe\">\n",
       "  <thead>\n",
       "    <tr style=\"text-align: right;\">\n",
       "      <th></th>\n",
       "      <th>merchant_id</th>\n",
       "      <th>merchant_group_id</th>\n",
       "      <th>merchant_category_id</th>\n",
       "      <th>subsector_id</th>\n",
       "      <th>numerical_1</th>\n",
       "      <th>numerical_2</th>\n",
       "      <th>category_1</th>\n",
       "      <th>most_recent_sales_range</th>\n",
       "      <th>most_recent_purchases_range</th>\n",
       "      <th>avg_sales_lag3</th>\n",
       "      <th>...</th>\n",
       "      <th>avg_sales_lag6</th>\n",
       "      <th>avg_purchases_lag6</th>\n",
       "      <th>active_months_lag6</th>\n",
       "      <th>avg_sales_lag12</th>\n",
       "      <th>avg_purchases_lag12</th>\n",
       "      <th>active_months_lag12</th>\n",
       "      <th>category_4</th>\n",
       "      <th>city_id</th>\n",
       "      <th>state_id</th>\n",
       "      <th>category_2</th>\n",
       "    </tr>\n",
       "  </thead>\n",
       "  <tbody>\n",
       "    <tr>\n",
       "      <th>0</th>\n",
       "      <td>M_ID_838061e48c</td>\n",
       "      <td>8353</td>\n",
       "      <td>792</td>\n",
       "      <td>9</td>\n",
       "      <td>-0.057465</td>\n",
       "      <td>-0.057465</td>\n",
       "      <td>N</td>\n",
       "      <td>E</td>\n",
       "      <td>E</td>\n",
       "      <td>-0.400000</td>\n",
       "      <td>...</td>\n",
       "      <td>-2.250000</td>\n",
       "      <td>18.666667</td>\n",
       "      <td>6</td>\n",
       "      <td>-2.320000</td>\n",
       "      <td>13.916667</td>\n",
       "      <td>12</td>\n",
       "      <td>N</td>\n",
       "      <td>242</td>\n",
       "      <td>9</td>\n",
       "      <td>1.0</td>\n",
       "    </tr>\n",
       "    <tr>\n",
       "      <th>1</th>\n",
       "      <td>M_ID_9339d880ad</td>\n",
       "      <td>3184</td>\n",
       "      <td>840</td>\n",
       "      <td>20</td>\n",
       "      <td>-0.057465</td>\n",
       "      <td>-0.057465</td>\n",
       "      <td>N</td>\n",
       "      <td>E</td>\n",
       "      <td>E</td>\n",
       "      <td>-0.720000</td>\n",
       "      <td>...</td>\n",
       "      <td>-0.740000</td>\n",
       "      <td>1.291667</td>\n",
       "      <td>6</td>\n",
       "      <td>-0.570000</td>\n",
       "      <td>1.687500</td>\n",
       "      <td>12</td>\n",
       "      <td>N</td>\n",
       "      <td>22</td>\n",
       "      <td>16</td>\n",
       "      <td>1.0</td>\n",
       "    </tr>\n",
       "    <tr>\n",
       "      <th>2</th>\n",
       "      <td>M_ID_e726bbae1e</td>\n",
       "      <td>447</td>\n",
       "      <td>690</td>\n",
       "      <td>1</td>\n",
       "      <td>-0.057465</td>\n",
       "      <td>-0.057465</td>\n",
       "      <td>N</td>\n",
       "      <td>E</td>\n",
       "      <td>E</td>\n",
       "      <td>-82.129997</td>\n",
       "      <td>...</td>\n",
       "      <td>-82.129997</td>\n",
       "      <td>260.000000</td>\n",
       "      <td>2</td>\n",
       "      <td>-82.129997</td>\n",
       "      <td>260.000000</td>\n",
       "      <td>2</td>\n",
       "      <td>N</td>\n",
       "      <td>-1</td>\n",
       "      <td>5</td>\n",
       "      <td>5.0</td>\n",
       "    </tr>\n",
       "    <tr>\n",
       "      <th>3</th>\n",
       "      <td>M_ID_c929bb59af</td>\n",
       "      <td>9514</td>\n",
       "      <td>2</td>\n",
       "      <td>20</td>\n",
       "      <td>-0.057465</td>\n",
       "      <td>-0.057465</td>\n",
       "      <td>N</td>\n",
       "      <td>E</td>\n",
       "      <td>E</td>\n",
       "      <td>69667.000000</td>\n",
       "      <td>...</td>\n",
       "      <td>69667.000000</td>\n",
       "      <td>1.000000</td>\n",
       "      <td>3</td>\n",
       "      <td>69667.000000</td>\n",
       "      <td>1.000000</td>\n",
       "      <td>3</td>\n",
       "      <td>N</td>\n",
       "      <td>-1</td>\n",
       "      <td>20</td>\n",
       "      <td>5.0</td>\n",
       "    </tr>\n",
       "    <tr>\n",
       "      <th>4</th>\n",
       "      <td>M_ID_dd3ae3de10</td>\n",
       "      <td>30534</td>\n",
       "      <td>278</td>\n",
       "      <td>37</td>\n",
       "      <td>-0.057465</td>\n",
       "      <td>-0.057465</td>\n",
       "      <td>N</td>\n",
       "      <td>E</td>\n",
       "      <td>E</td>\n",
       "      <td>5180.000000</td>\n",
       "      <td>...</td>\n",
       "      <td>9830.000000</td>\n",
       "      <td>4.166667</td>\n",
       "      <td>6</td>\n",
       "      <td>15826.000000</td>\n",
       "      <td>5.600000</td>\n",
       "      <td>10</td>\n",
       "      <td>Y</td>\n",
       "      <td>11</td>\n",
       "      <td>23</td>\n",
       "      <td>2.0</td>\n",
       "    </tr>\n",
       "  </tbody>\n",
       "</table>\n",
       "<p>5 rows × 22 columns</p>\n",
       "</div>"
      ],
      "text/plain": [
       "       merchant_id  merchant_group_id  merchant_category_id  subsector_id  \\\n",
       "0  M_ID_838061e48c               8353                   792             9   \n",
       "1  M_ID_9339d880ad               3184                   840            20   \n",
       "2  M_ID_e726bbae1e                447                   690             1   \n",
       "3  M_ID_c929bb59af               9514                     2            20   \n",
       "4  M_ID_dd3ae3de10              30534                   278            37   \n",
       "\n",
       "   numerical_1  numerical_2 category_1 most_recent_sales_range  \\\n",
       "0    -0.057465    -0.057465          N                       E   \n",
       "1    -0.057465    -0.057465          N                       E   \n",
       "2    -0.057465    -0.057465          N                       E   \n",
       "3    -0.057465    -0.057465          N                       E   \n",
       "4    -0.057465    -0.057465          N                       E   \n",
       "\n",
       "  most_recent_purchases_range  avg_sales_lag3     ...      avg_sales_lag6  \\\n",
       "0                           E       -0.400000     ...           -2.250000   \n",
       "1                           E       -0.720000     ...           -0.740000   \n",
       "2                           E      -82.129997     ...          -82.129997   \n",
       "3                           E    69667.000000     ...        69667.000000   \n",
       "4                           E     5180.000000     ...         9830.000000   \n",
       "\n",
       "   avg_purchases_lag6  active_months_lag6  avg_sales_lag12  \\\n",
       "0           18.666667                   6        -2.320000   \n",
       "1            1.291667                   6        -0.570000   \n",
       "2          260.000000                   2       -82.129997   \n",
       "3            1.000000                   3     69667.000000   \n",
       "4            4.166667                   6     15826.000000   \n",
       "\n",
       "   avg_purchases_lag12  active_months_lag12  category_4  city_id state_id  \\\n",
       "0            13.916667                   12           N      242        9   \n",
       "1             1.687500                   12           N       22       16   \n",
       "2           260.000000                    2           N       -1        5   \n",
       "3             1.000000                    3           N       -1       20   \n",
       "4             5.600000                   10           Y       11       23   \n",
       "\n",
       "   category_2  \n",
       "0         1.0  \n",
       "1         1.0  \n",
       "2         5.0  \n",
       "3         5.0  \n",
       "4         2.0  \n",
       "\n",
       "[5 rows x 22 columns]"
      ]
     },
     "execution_count": 65,
     "metadata": {},
     "output_type": "execute_result"
    }
   ],
   "source": [
    "merchants = merchants.reset_index()\n",
    "merchants = merchants.drop('index', axis = 1)\n",
    "temp = merchants\n",
    "merchants.head()"
   ]
  },
  {
   "cell_type": "code",
   "execution_count": 66,
   "metadata": {},
   "outputs": [],
   "source": [
    "cols = ['merchant_group_id', 'merchant_category_id', 'subsector_id', 'category_1','most_recent_sales_range',\n",
    "        'most_recent_purchases_range', 'state_id','city_id', 'category_4']\n",
    "label_enc = LabelEncoder()\n",
    "for c in cols:\n",
    "    label_enc.fit(list(merchants[c].values)) \n",
    "    merchants[c] = label_enc.transform(list(merchants[c].values))"
   ]
  },
  {
   "cell_type": "code",
   "execution_count": 67,
   "metadata": {},
   "outputs": [],
   "source": [
    "train = merchants.dropna()\n",
    "test = merchants.loc[merchants.category_2.isnull()]\n",
    "test = test.reset_index()\n",
    "train = train.reset_index()\n",
    "test = test.drop('index', axis = 1)\n",
    "train = train.drop('index', axis = 1)"
   ]
  },
  {
   "cell_type": "code",
   "execution_count": 68,
   "metadata": {},
   "outputs": [],
   "source": [
    "test_merchant_id = test.merchant_id\n",
    "y_train = train.category_2.values\n",
    "train = train.drop(['merchant_id','category_2'], axis = 1)\n",
    "test = test.drop(['merchant_id','category_2'], axis = 1)"
   ]
  },
  {
   "cell_type": "code",
   "execution_count": 69,
   "metadata": {},
   "outputs": [],
   "source": [
    "Xtree = ExtraTreesClassifier()\n",
    "XtreeMd = Xtree.fit(train, y_train)\n",
    "y_pred = Xtree.predict(test)"
   ]
  },
  {
   "cell_type": "code",
   "execution_count": 70,
   "metadata": {},
   "outputs": [],
   "source": [
    "fill = pd.DataFrame(index = temp.index[temp.isnull().any(axis=1)], data= y_pred, columns=['category_2'])\n",
    "temp = temp.fillna(fill)"
   ]
  },
  {
   "cell_type": "code",
   "execution_count": 71,
   "metadata": {},
   "outputs": [
    {
     "data": {
      "text/plain": [
       "1.0    160855\n",
       "3.0     62159\n",
       "5.0     54354\n",
       "4.0     36442\n",
       "2.0     20810\n",
       "Name: category_2, dtype: int64"
      ]
     },
     "execution_count": 71,
     "metadata": {},
     "output_type": "execute_result"
    }
   ],
   "source": [
    "temp.category_2.value_counts()"
   ]
  },
  {
   "cell_type": "code",
   "execution_count": 72,
   "metadata": {},
   "outputs": [
    {
     "data": {
      "text/plain": [
       "merchant_id                    0\n",
       "merchant_group_id              0\n",
       "merchant_category_id           0\n",
       "subsector_id                   0\n",
       "numerical_1                    0\n",
       "numerical_2                    0\n",
       "category_1                     0\n",
       "most_recent_sales_range        0\n",
       "most_recent_purchases_range    0\n",
       "avg_sales_lag3                 0\n",
       "avg_purchases_lag3             0\n",
       "active_months_lag3             0\n",
       "avg_sales_lag6                 0\n",
       "avg_purchases_lag6             0\n",
       "active_months_lag6             0\n",
       "avg_sales_lag12                0\n",
       "avg_purchases_lag12            0\n",
       "active_months_lag12            0\n",
       "category_4                     0\n",
       "city_id                        0\n",
       "state_id                       0\n",
       "category_2                     0\n",
       "dtype: int64"
      ]
     },
     "execution_count": 72,
     "metadata": {},
     "output_type": "execute_result"
    }
   ],
   "source": [
    "temp.isnull().sum()"
   ]
  },
  {
   "cell_type": "code",
   "execution_count": 73,
   "metadata": {},
   "outputs": [],
   "source": [
    "temp.to_csv('merchants_clean.csv')"
   ]
  },
  {
   "cell_type": "markdown",
   "metadata": {},
   "source": [
    "### New_transactions"
   ]
  },
  {
   "cell_type": "code",
   "execution_count": 44,
   "metadata": {},
   "outputs": [
    {
     "name": "stdout",
     "output_type": "stream",
     "text": [
      "Mem. usage decreased to 114.20 Mb (45.5% reduction)\n"
     ]
    }
   ],
   "source": [
    "new_transactions = reduce_mem_usage(pd.read_csv('new_merchant_transactions.csv'))"
   ]
  },
  {
   "cell_type": "code",
   "execution_count": 45,
   "metadata": {},
   "outputs": [
    {
     "data": {
      "image/png": "[encoded data removed]",
      "text/plain": [
       "<Figure size 432x288 with 1 Axes>"
      ]
     },
     "metadata": {
      "needs_background": "light"
     },
     "output_type": "display_data"
    }
   ],
   "source": [
    "# Boxplot\n",
    "plt.boxplot(new_transactions.purchase_amount)\n",
    "plt.show()"
   ]
  },
  {
   "cell_type": "code",
   "execution_count": 46,
   "metadata": {},
   "outputs": [
    {
     "data": {
      "image/png": "[encoded data removed]",
      "text/plain": [
       "<Figure size 432x288 with 1 Axes>"
      ]
     },
     "metadata": {
      "needs_background": "light"
     },
     "output_type": "display_data"
    }
   ],
   "source": [
    "plt.boxplot(new_transactions.installments)\n",
    "plt.show()"
   ]
  },
  {
   "cell_type": "code",
   "execution_count": 48,
   "metadata": {},
   "outputs": [],
   "source": [
    "mask = new_transactions.installments == 999\n",
    "column_name = 'installments'\n",
    "new_transactions.loc[mask, column_name] = -1"
   ]
  },
  {
   "cell_type": "code",
   "execution_count": null,
   "metadata": {},
   "outputs": [],
   "source": [
    "# Similarly to historical transactions, we remove outliers for the purchase amount and installments\n",
    "# new_transactions = new_transactions.loc[(new_transactions.purchase_amount < 100000) & (new_transactions.installments < 900),]"
   ]
  },
  {
   "cell_type": "code",
   "execution_count": 65,
   "metadata": {},
   "outputs": [],
   "source": [
    "new_transactions[\"merchant_id\"] = new_transactions.groupby([\"card_id\",\"merchant_category_id\"])[\"merchant_id\"].transform(lambda x: x.fillna(x.mode()[0]) if len(x.mode()) > 0 else  x.fillna(float('NaN')))"
   ]
  },
  {
   "cell_type": "code",
   "execution_count": 66,
   "metadata": {},
   "outputs": [],
   "source": [
    "new_transactions[\"merchant_id\"] = new_transactions.groupby([\"card_id\"])[\"merchant_id\"].transform(lambda x: x.fillna(x.mode()[0]) if len(x.mode()) > 0 else  x.fillna(float('NaN')))"
   ]
  },
  {
   "cell_type": "code",
   "execution_count": 67,
   "metadata": {},
   "outputs": [],
   "source": [
    "new_transactions[\"merchant_id\"] = new_transactions.groupby([\"merchant_category_id\"])[\"merchant_id\"].transform(lambda x: x.fillna(x.mode()[0]) if len(x.mode()) > 0 else  x.fillna(float('NaN')))"
   ]
  },
  {
   "cell_type": "code",
   "execution_count": 68,
   "metadata": {},
   "outputs": [],
   "source": [
    "cate3 = new_transactions.loc[:, new_transactions.columns != 'category_2']"
   ]
  },
  {
   "cell_type": "code",
   "execution_count": 69,
   "metadata": {},
   "outputs": [],
   "source": [
    "cols = ['card_id', 'city_id', 'category_1', 'installments','merchant_category_id','merchant_id',\n",
    "       'state_id','subsector_id']\n",
    "label_enc = LabelEncoder()\n",
    "for c in cols:\n",
    "    label_enc.fit(list(cate3[c].values)) \n",
    "    cate3[c] = label_enc.transform(list(cate3[c].values))"
   ]
  },
  {
   "cell_type": "code",
   "execution_count": 70,
   "metadata": {},
   "outputs": [],
   "source": [
    "cate3 = cate3.drop(['purchase_date'], axis = 1)\n",
    "train = cate3.dropna()\n",
    "test = cate3.loc[cate3.category_3.isnull()]\n",
    "test = test.reset_index()\n",
    "train = train.reset_index()\n",
    "test = test.drop('index', axis = 1)\n",
    "train = train.drop('index', axis = 1)"
   ]
  },
  {
   "cell_type": "code",
   "execution_count": 71,
   "metadata": {},
   "outputs": [],
   "source": [
    "train['category_3'] = train['category_3'].map({'A':0, 'B':1, 'C':2})\n",
    "y_train = train.category_3.values\n",
    "train = train.drop(['authorized_flag','category_3'], axis = 1)\n",
    "test = test.drop(['authorized_flag','category_3'], axis = 1)"
   ]
  },
  {
   "cell_type": "code",
   "execution_count": 72,
   "metadata": {},
   "outputs": [
    {
     "data": {
      "text/plain": [
       "[('RF', 1.0), ('Xtree', 1.0)]"
      ]
     },
     "execution_count": 72,
     "metadata": {},
     "output_type": "execute_result"
    }
   ],
   "source": [
    "models = [RandomForestClassifier(),ExtraTreesClassifier()]\n",
    "names = [\"RF\", \"Xtree\"]\n",
    "dict_score = {}\n",
    "for name, model in zip(names, models):\n",
    "    model.fit(train, y_train)\n",
    "    model_train_pred = model.predict(train)\n",
    "    accy = round(accuracy_score(y_train, model_train_pred), 6)\n",
    "    dict_score[name] = accy\n",
    "\n",
    "import operator\n",
    "dict_score = sorted(dict_score.items(), key = operator.itemgetter(1), reverse = True)\n",
    "dict_score"
   ]
  },
  {
   "cell_type": "code",
   "execution_count": 73,
   "metadata": {},
   "outputs": [],
   "source": [
    "RF = RandomForestClassifier()\n",
    "RFMd = RF.fit(train, y_train)\n",
    "y_pred = RFMd.predict(test)"
   ]
  },
  {
   "cell_type": "code",
   "execution_count": 74,
   "metadata": {},
   "outputs": [
    {
     "data": {
      "text/plain": [
       "authorized_flag             0\n",
       "card_id                     0\n",
       "city_id                     0\n",
       "category_1                  0\n",
       "installments                0\n",
       "category_3              55922\n",
       "merchant_category_id        0\n",
       "merchant_id                 0\n",
       "month_lag                   0\n",
       "purchase_amount             0\n",
       "state_id                    0\n",
       "subsector_id                0\n",
       "dtype: int64"
      ]
     },
     "execution_count": 74,
     "metadata": {},
     "output_type": "execute_result"
    }
   ],
   "source": [
    "cate3.isnull().sum()"
   ]
  },
  {
   "cell_type": "code",
   "execution_count": 75,
   "metadata": {},
   "outputs": [],
   "source": [
    "fill = pd.DataFrame(index = cate3.index[cate3.isnull().any(axis=1)], data= y_pred, columns=['category_3'])\n",
    "cate3 = cate3.fillna(fill)"
   ]
  },
  {
   "cell_type": "code",
   "execution_count": 76,
   "metadata": {},
   "outputs": [
    {
     "data": {
      "text/plain": [
       "0"
      ]
     },
     "execution_count": 76,
     "metadata": {},
     "output_type": "execute_result"
    }
   ],
   "source": [
    "cate3.category_3.isnull().sum()"
   ]
  },
  {
   "cell_type": "code",
   "execution_count": 77,
   "metadata": {},
   "outputs": [],
   "source": [
    "cate3['category_3'] = cate3['category_3'].map({0: 0, 1 : 1, 2 : 2, 'A': 0, 'B': 1, 'C': 2})"
   ]
  },
  {
   "cell_type": "code",
   "execution_count": 78,
   "metadata": {},
   "outputs": [],
   "source": [
    "cate3['category_2'] = new_transactions['category_2']"
   ]
  },
  {
   "cell_type": "code",
   "execution_count": 79,
   "metadata": {},
   "outputs": [],
   "source": [
    "train = cate3.dropna()\n",
    "test = cate3.loc[cate3.category_2.isnull()]\n",
    "test = test.reset_index()\n",
    "train = train.reset_index()\n",
    "test = test.drop('index', axis = 1)\n",
    "train = train.drop('index', axis = 1)"
   ]
  },
  {
   "cell_type": "code",
   "execution_count": 80,
   "metadata": {},
   "outputs": [],
   "source": [
    "y_train = train.category_2.values\n",
    "train = train.drop(['authorized_flag','category_2'], axis = 1)\n",
    "test = test.drop(['authorized_flag','category_2'], axis = 1)"
   ]
  },
  {
   "cell_type": "code",
   "execution_count": 81,
   "metadata": {},
   "outputs": [
    {
     "data": {
      "text/plain": [
       "[('RF', 1.0), ('Xtree', 1.0)]"
      ]
     },
     "execution_count": 81,
     "metadata": {},
     "output_type": "execute_result"
    }
   ],
   "source": [
    "models = [RandomForestClassifier(),ExtraTreesClassifier()]\n",
    "names = [\"RF\", \"Xtree\"]\n",
    "dict_score = {}\n",
    "for name, model in zip(names, models):\n",
    "    model.fit(train, y_train)\n",
    "    model_train_pred = model.predict(train)\n",
    "    accy = round(accuracy_score(y_train, model_train_pred), 6)\n",
    "    dict_score[name] = accy\n",
    "\n",
    "import operator\n",
    "dict_score = sorted(dict_score.items(), key = operator.itemgetter(1), reverse = True)\n",
    "dict_score"
   ]
  },
  {
   "cell_type": "code",
   "execution_count": 82,
   "metadata": {},
   "outputs": [],
   "source": [
    "RF = RandomForestClassifier()\n",
    "RFMd = RF.fit(train, y_train)\n",
    "y_pred = RFMd.predict(test)"
   ]
  },
  {
   "cell_type": "code",
   "execution_count": 83,
   "metadata": {},
   "outputs": [],
   "source": [
    "fill = pd.DataFrame(index = cate3.index[cate3.isnull().any(axis=1)], data= y_pred, columns=['category_2'])\n",
    "cate3 = cate3.fillna(fill)"
   ]
  },
  {
   "cell_type": "code",
   "execution_count": 84,
   "metadata": {},
   "outputs": [],
   "source": [
    "new_transactions['category_2'] = cate3['category_2']\n",
    "new_transactions['category_3'] = cate3['category_3']"
   ]
  },
  {
   "cell_type": "code",
   "execution_count": 85,
   "metadata": {},
   "outputs": [
    {
     "data": {
      "text/plain": [
       "authorized_flag         0\n",
       "card_id                 0\n",
       "city_id                 0\n",
       "category_1              0\n",
       "installments            0\n",
       "category_3              0\n",
       "merchant_category_id    0\n",
       "merchant_id             0\n",
       "month_lag               0\n",
       "purchase_amount         0\n",
       "purchase_date           0\n",
       "category_2              0\n",
       "state_id                0\n",
       "subsector_id            0\n",
       "dtype: int64"
      ]
     },
     "execution_count": 85,
     "metadata": {},
     "output_type": "execute_result"
    }
   ],
   "source": [
    "new_transactions.isnull().sum()"
   ]
  },
  {
   "cell_type": "code",
   "execution_count": 86,
   "metadata": {},
   "outputs": [],
   "source": [
    "new_transactions.to_csv('new_merchant_transactions_clean_outlier.csv')"
   ]
  },
  {
   "cell_type": "code",
   "execution_count": null,
   "metadata": {},
   "outputs": [],
   "source": []
  }
 ],
 "metadata": {
  "kernelspec": {
   "display_name": "Python 3",
   "language": "python",
   "name": "python3"
  },
  "language_info": {
   "codemirror_mode": {
    "name": "ipython",
    "version": 3
   },
   "file_extension": ".py",
   "mimetype": "text/x-python",
   "name": "python",
   "nbconvert_exporter": "python",
   "pygments_lexer": "ipython3",
   "version": "3.7.1"
  }
 },
 "nbformat": 4,
 "nbformat_minor": 2
}
