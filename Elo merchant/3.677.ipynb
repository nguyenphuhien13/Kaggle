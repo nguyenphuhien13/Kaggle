{
 "cells": [
  {
   "cell_type": "code",
   "execution_count": 1,
   "metadata": {},
   "outputs": [],
   "source": [
    "import pandas as pd"
   ]
  },
  {
   "cell_type": "code",
   "execution_count": 18,
   "metadata": {},
   "outputs": [],
   "source": [
    "sample_submission = pd.read_csv('sample_submission.csv')\n",
    "mix = pd.read_csv('82.csv')\n",
    "ens = pd.read_csv('82 (2).csv')\n",
    "sample_submission['target'] = mix['target']*0.5 + ens['target']*0.5\n",
    "q = sample_submission['target'].quantile(0.002)\n",
    "#sample_submission['target'] = sample_submission['target'].apply(lambda x: x if x > q else x*1.1)\n",
    "sample_submission.loc[sample_submission.target < -19.93, 'target'] = -33.218750\n",
    "sample_submission.to_csv('mix.csv', index=False)"
   ]
  },
  {
   "cell_type": "code",
   "execution_count": 10,
   "metadata": {},
   "outputs": [
    {
     "data": {
      "text/plain": [
       "-11.951440390665939"
      ]
     },
     "execution_count": 10,
     "metadata": {},
     "output_type": "execute_result"
    }
   ],
   "source": [
    "q"
   ]
  },
  {
   "cell_type": "code",
   "execution_count": 11,
   "metadata": {},
   "outputs": [
    {
     "data": {
      "text/plain": [
       "27"
      ]
     },
     "execution_count": 11,
     "metadata": {},
     "output_type": "execute_result"
    }
   ],
   "source": [
    "((sample_submission.target <= -19) & (sample_submission.target > -35)).sum()"
   ]
  },
  {
   "cell_type": "code",
   "execution_count": 16,
   "metadata": {},
   "outputs": [
    {
     "data": {
      "text/html": [
       "<div>\n",
       "<style scoped>\n",
       "    .dataframe tbody tr th:only-of-type {\n",
       "        vertical-align: middle;\n",
       "    }\n",
       "\n",
       "    .dataframe tbody tr th {\n",
       "        vertical-align: top;\n",
       "    }\n",
       "\n",
       "    .dataframe thead th {\n",
       "        text-align: right;\n",
       "    }\n",
       "</style>\n",
       "<table border=\"1\" class=\"dataframe\">\n",
       "  <thead>\n",
       "    <tr style=\"text-align: right;\">\n",
       "      <th></th>\n",
       "      <th>card_id</th>\n",
       "      <th>target</th>\n",
       "    </tr>\n",
       "  </thead>\n",
       "  <tbody>\n",
       "    <tr>\n",
       "      <th>5008</th>\n",
       "      <td>C_ID_be92f84f5c</td>\n",
       "      <td>-23.174822</td>\n",
       "    </tr>\n",
       "    <tr>\n",
       "      <th>17720</th>\n",
       "      <td>C_ID_938dec7a1a</td>\n",
       "      <td>-20.920098</td>\n",
       "    </tr>\n",
       "    <tr>\n",
       "      <th>20556</th>\n",
       "      <td>C_ID_aae50409e7</td>\n",
       "      <td>-24.291540</td>\n",
       "    </tr>\n",
       "    <tr>\n",
       "      <th>25568</th>\n",
       "      <td>C_ID_767923bdb9</td>\n",
       "      <td>-20.830874</td>\n",
       "    </tr>\n",
       "    <tr>\n",
       "      <th>26864</th>\n",
       "      <td>C_ID_e7c702e96f</td>\n",
       "      <td>-21.196780</td>\n",
       "    </tr>\n",
       "    <tr>\n",
       "      <th>27436</th>\n",
       "      <td>C_ID_493de71141</td>\n",
       "      <td>-21.962262</td>\n",
       "    </tr>\n",
       "    <tr>\n",
       "      <th>32446</th>\n",
       "      <td>C_ID_ac114ef831</td>\n",
       "      <td>-24.030922</td>\n",
       "    </tr>\n",
       "    <tr>\n",
       "      <th>35851</th>\n",
       "      <td>C_ID_5ee52cf9f6</td>\n",
       "      <td>-21.587200</td>\n",
       "    </tr>\n",
       "    <tr>\n",
       "      <th>37421</th>\n",
       "      <td>C_ID_366bf4ea4d</td>\n",
       "      <td>-22.974958</td>\n",
       "    </tr>\n",
       "    <tr>\n",
       "      <th>43763</th>\n",
       "      <td>C_ID_74dd007aec</td>\n",
       "      <td>-20.509328</td>\n",
       "    </tr>\n",
       "    <tr>\n",
       "      <th>48945</th>\n",
       "      <td>C_ID_afbfc01b49</td>\n",
       "      <td>-23.145321</td>\n",
       "    </tr>\n",
       "    <tr>\n",
       "      <th>67890</th>\n",
       "      <td>C_ID_cde027fde7</td>\n",
       "      <td>-24.716607</td>\n",
       "    </tr>\n",
       "    <tr>\n",
       "      <th>78078</th>\n",
       "      <td>C_ID_922f9c5ea6</td>\n",
       "      <td>-21.738263</td>\n",
       "    </tr>\n",
       "    <tr>\n",
       "      <th>80840</th>\n",
       "      <td>C_ID_bced41d837</td>\n",
       "      <td>-22.427660</td>\n",
       "    </tr>\n",
       "    <tr>\n",
       "      <th>85003</th>\n",
       "      <td>C_ID_00bf566320</td>\n",
       "      <td>-19.932150</td>\n",
       "    </tr>\n",
       "    <tr>\n",
       "      <th>87901</th>\n",
       "      <td>C_ID_a4ca7a3f5d</td>\n",
       "      <td>-20.191430</td>\n",
       "    </tr>\n",
       "    <tr>\n",
       "      <th>103851</th>\n",
       "      <td>C_ID_877b879853</td>\n",
       "      <td>-20.258767</td>\n",
       "    </tr>\n",
       "    <tr>\n",
       "      <th>104274</th>\n",
       "      <td>C_ID_bf939aa4e9</td>\n",
       "      <td>-22.318933</td>\n",
       "    </tr>\n",
       "    <tr>\n",
       "      <th>104991</th>\n",
       "      <td>C_ID_86ddafb51c</td>\n",
       "      <td>-21.864346</td>\n",
       "    </tr>\n",
       "    <tr>\n",
       "      <th>116572</th>\n",
       "      <td>C_ID_f503a136f1</td>\n",
       "      <td>-23.810146</td>\n",
       "    </tr>\n",
       "  </tbody>\n",
       "</table>\n",
       "</div>"
      ],
      "text/plain": [
       "                card_id     target\n",
       "5008    C_ID_be92f84f5c -23.174822\n",
       "17720   C_ID_938dec7a1a -20.920098\n",
       "20556   C_ID_aae50409e7 -24.291540\n",
       "25568   C_ID_767923bdb9 -20.830874\n",
       "26864   C_ID_e7c702e96f -21.196780\n",
       "27436   C_ID_493de71141 -21.962262\n",
       "32446   C_ID_ac114ef831 -24.030922\n",
       "35851   C_ID_5ee52cf9f6 -21.587200\n",
       "37421   C_ID_366bf4ea4d -22.974958\n",
       "43763   C_ID_74dd007aec -20.509328\n",
       "48945   C_ID_afbfc01b49 -23.145321\n",
       "67890   C_ID_cde027fde7 -24.716607\n",
       "78078   C_ID_922f9c5ea6 -21.738263\n",
       "80840   C_ID_bced41d837 -22.427660\n",
       "85003   C_ID_00bf566320 -19.932150\n",
       "87901   C_ID_a4ca7a3f5d -20.191430\n",
       "103851  C_ID_877b879853 -20.258767\n",
       "104274  C_ID_bf939aa4e9 -22.318933\n",
       "104991  C_ID_86ddafb51c -21.864346\n",
       "116572  C_ID_f503a136f1 -23.810146"
      ]
     },
     "execution_count": 16,
     "metadata": {},
     "output_type": "execute_result"
    }
   ],
   "source": [
    "sample_submission.loc[sample_submission.target < -19.93]"
   ]
  },
  {
   "cell_type": "code",
   "execution_count": 35,
   "metadata": {},
   "outputs": [
    {
     "data": {
      "text/html": [
       "<div>\n",
       "<style scoped>\n",
       "    .dataframe tbody tr th:only-of-type {\n",
       "        vertical-align: middle;\n",
       "    }\n",
       "\n",
       "    .dataframe tbody tr th {\n",
       "        vertical-align: top;\n",
       "    }\n",
       "\n",
       "    .dataframe thead th {\n",
       "        text-align: right;\n",
       "    }\n",
       "</style>\n",
       "<table border=\"1\" class=\"dataframe\">\n",
       "  <thead>\n",
       "    <tr style=\"text-align: right;\">\n",
       "      <th></th>\n",
       "      <th>card_id</th>\n",
       "      <th>target</th>\n",
       "    </tr>\n",
       "  </thead>\n",
       "  <tbody>\n",
       "    <tr>\n",
       "      <th>0</th>\n",
       "      <td>C_ID_0ab67a22ab</td>\n",
       "      <td>-3.053443</td>\n",
       "    </tr>\n",
       "    <tr>\n",
       "      <th>1</th>\n",
       "      <td>C_ID_130fd0cbdd</td>\n",
       "      <td>-0.238888</td>\n",
       "    </tr>\n",
       "    <tr>\n",
       "      <th>2</th>\n",
       "      <td>C_ID_b709037bc5</td>\n",
       "      <td>-0.970487</td>\n",
       "    </tr>\n",
       "    <tr>\n",
       "      <th>3</th>\n",
       "      <td>C_ID_d27d835a9f</td>\n",
       "      <td>-0.095072</td>\n",
       "    </tr>\n",
       "    <tr>\n",
       "      <th>4</th>\n",
       "      <td>C_ID_2b5e3df5c2</td>\n",
       "      <td>-1.320355</td>\n",
       "    </tr>\n",
       "  </tbody>\n",
       "</table>\n",
       "</div>"
      ],
      "text/plain": [
       "           card_id    target\n",
       "0  C_ID_0ab67a22ab -3.053443\n",
       "1  C_ID_130fd0cbdd -0.238888\n",
       "2  C_ID_b709037bc5 -0.970487\n",
       "3  C_ID_d27d835a9f -0.095072\n",
       "4  C_ID_2b5e3df5c2 -1.320355"
      ]
     },
     "execution_count": 35,
     "metadata": {},
     "output_type": "execute_result"
    }
   ],
   "source": [
    "sample_submission.head()"
   ]
  },
  {
   "cell_type": "code",
   "execution_count": null,
   "metadata": {},
   "outputs": [],
   "source": []
  },
  {
   "cell_type": "code",
   "execution_count": null,
   "metadata": {},
   "outputs": [],
   "source": []
  }
 ],
 "metadata": {
  "kernelspec": {
   "display_name": "Python 3",
   "language": "python",
   "name": "python3"
  },
  "language_info": {
   "codemirror_mode": {
    "name": "ipython",
    "version": 3
   },
   "file_extension": ".py",
   "mimetype": "text/x-python",
   "name": "python",
   "nbconvert_exporter": "python",
   "pygments_lexer": "ipython3",
   "version": "3.7.1"
  }
 },
 "nbformat": 4,
 "nbformat_minor": 2
}
