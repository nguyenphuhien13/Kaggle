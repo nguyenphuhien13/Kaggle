{
 "cells": [
  {
   "cell_type": "code",
   "execution_count": 36,
   "metadata": {},
   "outputs": [],
   "source": [
    "import pandas as pd\n",
    "import numpy as np\n",
    "import re"
   ]
  },
  {
   "cell_type": "code",
   "execution_count": 37,
   "metadata": {},
   "outputs": [],
   "source": [
    "regex_train = \"train_[0-9]*[\\s\\S]*?\\\"\\n[0|1]\"\n",
    "regex_test = \"test_[0-9]*[\\s\\S]*?\\\"\\n\""
   ]
  },
  {
   "cell_type": "code",
   "execution_count": 46,
   "metadata": {},
   "outputs": [],
   "source": [
    "# Load train data\n",
    "with open(\"train.crash\", \"r\", encoding=\"utf-8\") as f:\n",
    "    lines = f.read()\n",
    "\n",
    "# Find trainning data with regex pattern\n",
    "train = re.findall(regex_train, lines)\n",
    "\n",
    "# Split to ids, labels, comments\n",
    "train_ids = [t.split(\"\\n\")[0] for t in train]\n",
    "train_labels = [t.split(\"\\n\")[-1] for t in train]\n",
    "train_comments = [\"\\n\".join(t.split(\"\\n\")[1:-1]) for t in train]\n",
    "train_comments = [t[1:-1] for t in train_comments]\n",
    "assert len(train_ids) == len(train_labels) == len(train_comments)\n",
    "\n",
    "# Create dataframe\n",
    "train_df = pd.DataFrame(\n",
    "    {\n",
    "        \"id\": train_ids,\n",
    "        \"comment\": train_comments,\n",
    "        \"label\": train_labels\n",
    "    }\n",
    ")\n",
    "\n",
    "# Save\n",
    "train_df.to_csv(\"train.csv\", index=False)"
   ]
  },
  {
   "cell_type": "code",
   "execution_count": 47,
   "metadata": {},
   "outputs": [],
   "source": [
    "# Load est data\n",
    "with open(\"test.crash\", \"r\", encoding=\"utf-8\") as f:\n",
    "    lines = f.read()\n",
    "\n",
    "# Find test data with regex pattern\n",
    "test = re.findall(regex_test, lines)\n",
    "\n",
    "# Split to ids, labels, comments\n",
    "test_ids = [t.split(\"\\n\")[0] for t in test]\n",
    "test_comments = [\"\\n\".join(t.split(\"\\n\")[1:]) for t in test]\n",
    "test_comments = [t[1:-2] for t in test_comments]\n",
    "assert len(test_ids) == len(test_comments)\n",
    "\n",
    "# Create dataframe\n",
    "test_df = pd.DataFrame(\n",
    "    {\n",
    "        \"id\": test_ids,\n",
    "        \"comment\": test_comments\n",
    "    }\n",
    ")\n",
    "\n",
    "# Save\n",
    "test_df.to_csv(\"test.csv\", index=False)"
   ]
  },
  {
   "cell_type": "code",
   "execution_count": null,
   "metadata": {},
   "outputs": [],
   "source": []
  }
 ],
 "metadata": {
  "kernelspec": {
   "display_name": "Python 3",
   "language": "python",
   "name": "python3"
  },
  "language_info": {
   "codemirror_mode": {
    "name": "ipython",
    "version": 3
   },
   "file_extension": ".py",
   "mimetype": "text/x-python",
   "name": "python",
   "nbconvert_exporter": "python",
   "pygments_lexer": "ipython3",
   "version": "3.7.1"
  }
 },
 "nbformat": 4,
 "nbformat_minor": 2
}
